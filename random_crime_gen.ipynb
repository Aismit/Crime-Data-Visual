{
 "cells": [
  {
   "cell_type": "code",
   "execution_count": 12,
   "metadata": {},
   "outputs": [
    {
     "name": "stdout",
     "output_type": "stream",
     "text": [
      "Requirement already satisfied: names in c:\\users\\yajue\\anaconda3\\lib\\site-packages (0.3.0)\n"
     ]
    },
    {
     "name": "stderr",
     "output_type": "stream",
     "text": [
      "WARNING: You are using pip version 19.2.3, however version 20.0.2 is available.\n",
      "You should consider upgrading via the 'python -m pip install --upgrade pip' command.\n"
     ]
    },
    {
     "name": "stdout",
     "output_type": "stream",
     "text": [
      "Collecting faker\n",
      "  Downloading https://files.pythonhosted.org/packages/ee/64/079c012bed8bc416fa0d136ceff86a7d25e765f45d7a0a97e0b803b1d506/Faker-4.0.3-py3-none-any.whl (1.0MB)\n",
      "Collecting text-unidecode==1.3 (from faker)\n",
      "  Downloading https://files.pythonhosted.org/packages/a6/a5/c0b6468d3824fe3fde30dbb5e1f687b291608f9473681bbf7dabbf5a87d7/text_unidecode-1.3-py2.py3-none-any.whl (78kB)\n",
      "Requirement already satisfied: python-dateutil>=2.4 in c:\\users\\yajue\\anaconda3\\lib\\site-packages (from faker) (2.6.1)\n",
      "Requirement already satisfied: six>=1.5 in c:\\users\\yajue\\anaconda3\\lib\\site-packages (from python-dateutil>=2.4->faker) (1.12.0)\n",
      "Installing collected packages: text-unidecode, faker\n",
      "Successfully installed faker-4.0.3 text-unidecode-1.3\n"
     ]
    },
    {
     "name": "stderr",
     "output_type": "stream",
     "text": [
      "WARNING: You are using pip version 19.2.3, however version 20.0.2 is available.\n",
      "You should consider upgrading via the 'python -m pip install --upgrade pip' command.\n"
     ]
    }
   ],
   "source": [
    "!pip install names\n",
    "!pip install faker"
   ]
  },
  {
   "cell_type": "code",
   "execution_count": 27,
   "metadata": {
    "collapsed": true
   },
   "outputs": [],
   "source": [
    "import json \n",
    "import random\n",
    "import datetime\n",
    "import uuid \n",
    "import names\n",
    "import faker "
   ]
  },
  {
   "cell_type": "code",
   "execution_count": 32,
   "metadata": {},
   "outputs": [],
   "source": [
    "def generate(num_crimes):\n",
    "      \n",
    "    # Data to be written\n",
    "    for i in range(num_crimes): \n",
    "        input_dict = {}\n",
    "\n",
    "        #CRIME DETAILS \n",
    "        \n",
    "        #create crime time \n",
    "        start_date = datetime.date(2005, 1, 1)\n",
    "        end_date = datetime.date(2018, 1, 1)\n",
    "\n",
    "        time_between_dates = end_date - start_date\n",
    "        days_between_dates = time_between_dates.days\n",
    "        random_number_of_days = random.randrange(days_between_dates)\n",
    "        crime_time = start_date + datetime.timedelta(days=random_number_of_days)\n",
    "        \n",
    "        #create insertion time \n",
    "        start_date = crime_time\n",
    "        end_date = datetime.date(2018, 1, 1)\n",
    "\n",
    "        time_between_dates = end_date - start_date\n",
    "        days_between_dates = time_between_dates.days\n",
    "        random_number_of_days = random.randrange(days_between_dates)\n",
    "        insertion_time = str(start_date + datetime.timedelta(days=random_number_of_days))\n",
    "        \n",
    "        \n",
    "        #NEED FOR LATER \n",
    "        insertion_time = str(insertion_time)  \n",
    "        officer_id = \"o\" + str(random.randint(10, 60))\n",
    "        crime_id = str(uuid.uuid4())\n",
    "\n",
    "\n",
    "        crime_details = {\n",
    "            \"CrimeID\": crime_id,\n",
    "            \"CrimeType\": str(random.sample(['01', '02', '03', '04', '05', '06', '07'], 1)[0]), \n",
    "            \"Weapon\" : str(random.sample(['knife', 'gun', 'blunt object', 'physical', 'sharp object', 'none'], 1)[0]), \n",
    "            \"Location\" : str(random.sample(['Ashburn', 'Boise', 'Chicago', 'New York', 'Oakland', 'Topeka', 'St. Paul'], 1)[0]), \n",
    "            \"Time\" : str(crime_time),\n",
    "            \"Apprehended\" : str(random.sample([0, 1], 1)[0]),\n",
    "            \"InsertionTime\" : str(insertion_time),\n",
    "            \"OfficerID\" :  officer_id\n",
    "        }\n",
    "        \n",
    "        \n",
    "        police_officer = {\n",
    "            \"OfficerID\" : officer_id, \n",
    "            \"OfficerName\" : names.get_full_name(), \n",
    "            \"Precinct\" : str(random.sample(['Ashburn', 'Boise', 'Chicago', 'New York', 'Oakland', 'Topeka', 'St. Paul'], 1)[0])\n",
    "        }\n",
    "        \n",
    "        input_dict['Crime'] = crime_details \n",
    "        input_dict['Police Officer'] = police_officer\n",
    "        \n",
    "        def suspect_gen(time_of_crime, crime_id): \n",
    "            \n",
    "            #create suspect last seen time\n",
    "            start_date = time_of_crime\n",
    "            end_date = datetime.date(2018, 1, 1)\n",
    "\n",
    "            time_between_dates = end_date - start_date\n",
    "            days_between_dates = time_between_dates.days\n",
    "            random_number_of_days = random.randrange(days_between_dates)\n",
    "            last_seen_time = str(start_date + datetime.timedelta(days=random_number_of_days))\n",
    "\n",
    "            suspect = {\n",
    "                \"SuspectID\" : \"s\" + str(random.randint(10, 50)),  \n",
    "                \"SuspectName\" : names.get_full_name(),\n",
    "                \"SuspectDescription\" : str(random.sample(['blue shirt, scruffy jeans, brown hair', \n",
    "                                                          '5 ft 6, light green shirt, dirty jeans', \n",
    "                                                          'sleevless black shirt, white backpack, 16 years old', \n",
    "                                                          '25 years old, red sneakers, white stained jeans', \n",
    "                                                          'black hair, torn jeans, carrying umbrella', \n",
    "                                                          '5 ft 8, blond hair, red baseball tshirt', \n",
    "                                                          '20 years old, brown satchel, green tennis shoes', \n",
    "                                                          'light pink shirt, brown sandals, carrying black laptop bag'], 1)[0]), \n",
    "                \"SuspectMotive\" : str(random.sample(['none', 'crime of passion', 'disgruntled employee', 'paid assault', 'accident', 'mentally unfit', 'self defense'], 1)[0]), \n",
    "                \"SuspectAddress\" : faker.Faker().address(), \n",
    "                \"LastSeenTime\" : str(last_seen_time), \n",
    "                \"LastSeenLocation\" : str(random.sample(['Daisy St', 'MeadowLark Blvd', 'Atticus St', 'Mooring Ln', 'Lemont Blvd', 'Dartmouth Blvd', 'Knowling St', 'Farring St', 'Leesbury Ave'], 1)[0]), \n",
    "                \"CrimeID\" : crime_id        \n",
    "            }   \n",
    "            return suspect \n",
    "            \n",
    "        num_suspects = random.sample([0, 1, 2, 3, 4, 5], 1)[0]\n",
    "        for j in range(num_suspects): \n",
    "            suspect_dict = suspect_gen(crime_time, crime_id)\n",
    "            input_dict['Suspect ' + str(j+1)] = suspect_dict\n",
    "\n",
    "\n",
    "        def victim_gen(crime_id): \n",
    "            victim = {\n",
    "                \"VictimID\" : str(uuid.uuid4()),\n",
    "                \"VictimName\" : names.get_full_name(), \n",
    "                \"VictimDescription\" :str(random.sample(['pink shirt, blue jeans, brown hair', \n",
    "                                                          '5 ft 2, light yellow shirt, acid wash jeans', \n",
    "                                                          'full sleeve navy shirt, orange backpack, 32 years old', \n",
    "                                                          '19 years old, green sneakers, black stained jeans', \n",
    "                                                          'blonde hair, torn jeans, carrying grocery bag', \n",
    "                                                          '5 ft 7, black hair, mauve sleeveless tshirt', \n",
    "                                                          '28 years old, tan satchel, purple tennis shoes', \n",
    "                                                          'light blue shirt, navy sandals, carrying brown laptop bag'], 1)[0]), \n",
    "                \"VictimStatus\" : str(random.sample(['Unharmed', 'Injured', 'Dead'], 1)[0]), \n",
    "                \"VictimAddress\" : faker.Faker().address(), \n",
    "                \"CrimeID\" : crime_id \n",
    "            }\n",
    "            return victim \n",
    "\n",
    "        num_victims = random.sample([1, 2], 1)[0]\n",
    "        for k in range(num_victims): \n",
    "            victim_dict = victim_gen(crime_id)\n",
    "            input_dict['Victim ' + str(k+1)] = victim_dict       \n",
    "    \n",
    "\n",
    "        dictionary = input_dict\n",
    "          \n",
    "        #Serializing json  \n",
    "        json_object = json.dumps(dictionary, indent = 4) \n",
    "          \n",
    "        #Writing to sample.json \n",
    "        with open(\"random_crime\" + str(i) + \".json\", \"w\") as outfile: \n",
    "            outfile.write(json_object) \n"
   ]
  },
  {
   "cell_type": "code",
   "execution_count": 33,
   "metadata": {
    "collapsed": true
   },
   "outputs": [],
   "source": [
    "generate(3)"
   ]
  },
  {
   "cell_type": "code",
   "execution_count": null,
   "metadata": {
    "collapsed": true
   },
   "outputs": [],
   "source": []
  }
 ],
 "metadata": {
  "kernelspec": {
   "display_name": "Python 3",
   "language": "python",
   "name": "python3"
  },
  "language_info": {
   "codemirror_mode": {
    "name": "ipython",
    "version": 3
   },
   "file_extension": ".py",
   "mimetype": "text/x-python",
   "name": "python",
   "nbconvert_exporter": "python",
   "pygments_lexer": "ipython3",
   "version": "3.6.3"
  }
 },
 "nbformat": 4,
 "nbformat_minor": 2
}
